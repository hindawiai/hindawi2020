{
  "nbformat": 4,
  "nbformat_minor": 0,
  "metadata": {
    "kernelspec": {
      "display_name": "Python 3",
      "language": "python",
      "name": "python3"
    },
    "language_info": {
      "codemirror_mode": {
        "name": "ipython",
        "version": 3
      },
      "file_extension": ".py",
      "mimetype": "text/x-python",
      "name": "python",
      "nbconvert_exporter": "python",
      "pygments_lexer": "ipython3",
      "version": "3.8.2"
    },
    "colab": {
      "name": "Hindawi2021.6.ipynb",
      "provenance": [],
      "collapsed_sections": []
    }
  },
  "cells": [
    {
      "cell_type": "markdown",
      "metadata": {
        "id": "yYc5p2xhYS7i"
      },
      "source": [
        "# Hindawi 2021.6"
      ]
    },
    {
      "cell_type": "code",
      "metadata": {
        "id": "fEf5G-CzMb3M",
        "cellView": "form"
      },
      "source": [
        "#@title Initialize\n",
        "%%shell\n",
        "\n",
        "printf \"Installing prerequisites... \"\n",
        "sudo apt install gawk flex bison php-iconv &>/dev/null\n",
        "echo \"Done\"\n",
        "\n",
        "printf \"Cloning Hindawi2020 repo... \"\n",
        "git clone https://github.com/hindawiai/hindawi2020 &>/dev/null\n",
        "echo \"Done\"\n",
        "if [ 0 -lt $(pip3 freeze | grep google.colab | wc -l) ]\n",
        "then\n",
        "  echo \"Executing preamble for non-docker platforms... \"\n",
        "  cd hindawi2020\n",
        "\n",
        "  for n in HindawiUI HindawiLauncher Romenagri RomenagriUI RomenagriMail\\\n",
        "          Hindawi/guru Hindawi/hindrv Hindawi/kritrima Hindawi/praatha\\\n",
        "          Hindawi/shabda Hindawi/shraeni Hindawi/wyaaka Hindawi/yantra\\\n",
        "          Hindawi/others/fasm Hindawi/others/qb2c;\n",
        "  do\n",
        "    pushd $n &>/dev/null\n",
        "    printf \"Building in $n... \"\n",
        "    make all &>/dev/null\n",
        "    make install &>/dev/null\n",
        "    make clean_all &>/dev/null\n",
        "    echo \"Done\"\n",
        "    popd &>/dev/null\n",
        "  done\n",
        "  echo \"Completed preamble for non-docker platforms.\"\n",
        "fi\n",
        "#TBD: APCISR not built\n"
      ],
      "execution_count": null,
      "outputs": []
    },
    {
      "cell_type": "code",
      "metadata": {
        "scrolled": false,
        "id": "8Dr6rgxZMKcy"
      },
      "source": [
        "%%writefile myBASIC.uhin\n",
        "पूछो \"ऊँचाई: \", न\n",
        "लिखो न\n",
        "क्रम क = १ से न\n",
        "    क्रम ख = १ से (न - क)\n",
        "        लिखो \"   \";\n",
        "    क्रमांत ख\n",
        "    क्रम ग = १ से क\n",
        "        लिखो \"हिन्दवी  \";\n",
        "    क्रमांत ग\n",
        "    लिखो \"\"\n",
        "क्रमांत क\n",
        "क्रम क = (न - १) से १ गति -१\n",
        "    क्रम ख = १ से (न - क)\n",
        "        लिखो \"   \";\n",
        "    क्रमांत ख\n",
        "    क्रम ग = १ से क\n",
        "        लिखो \"हिन्दवी  \";\n",
        "    क्रमांत ग\n",
        "    लिखो \"\"\n",
        "क्रमांत क\n",
        "इति\n"
      ],
      "execution_count": null,
      "outputs": []
    },
    {
      "cell_type": "code",
      "metadata": {
        "id": "oZLGaXPsMKdI"
      },
      "source": [
        "%%writefile inpBASIC.txt\n",
        "5\n"
      ],
      "execution_count": null,
      "outputs": []
    },
    {
      "cell_type": "code",
      "metadata": {
        "id": "r0-TRzr3MKdQ"
      },
      "source": [
        "%%shell\n",
        "\n",
        "#Do not edit below this line\n",
        "hincc myBASIC.uhin\n",
        "cat inpBASIC.txt | awk '{print}' | /hin.exe\n"
      ],
      "execution_count": null,
      "outputs": []
    },
    {
      "cell_type": "code",
      "metadata": {
        "id": "RKwBJc0cMKdU"
      },
      "source": [
        "%%writefile myC.uhin\n",
        "<शैली गुरु>\n",
        "#समावेश <गणित.स>\n",
        "#समावेश <मानकपन.स>\n",
        "#समावेश <मानककोष.स>\n",
        "\n",
        "पूर्णांक मुख्य()\n",
        "अणु\n",
        "    पूर्णांक *सरणी = शून्य, सरणी_लंबाई, पद, अस्थायी_चर, क्रमबद्धता = ०;\n",
        "    भग्न माध्य = ०, प्रसरण = ०, विचलन;\n",
        "\n",
        "    म_लिखो(\"यादृच्छिक संख्याओं की संख्या दर्ज करें:\");\n",
        "    म_पूछो(\"%प\", &सरणी_लंबाई);\n",
        "    सरणी = (पूर्णांक *)पुनः_स्मृति(\n",
        "        सरणी,\n",
        "        सरणी_लंबाई * (माप(पूर्णांक)));  // हम समर्पित स्मृति आवंटित करते हैं\n",
        "    क्रम (पद = ०; पद < सरणी_लंबाई; पद++)  // हम अक्रम संख्याएँ उत्पन्न करते हैं\n",
        "        सरणी[पद] = अक्रम() % १००;\n",
        "\n",
        "    म_लिखो(\"उत्पन्न यादृच्छिक संख्याएँ हैं:\\न\");  // हम उन्हें प्रदर्शित करते हैं\n",
        "    क्रम (पद = ०; पद < सरणी_लंबाई; पद++) म_लिखो(\"%प \", सरणी[पद]);\n",
        "\n",
        "    म_लिखो(\"\\नक्रमबद्ध डेटा: \");  // फिर हम इसे बबल सॉर्ट का उपयोग करके सॉर्ट करते हैं\n",
        "\n",
        "    जबतक (!क्रमबद्धता)\n",
        "    अणु                                     // जबकि हमारी सरणी क्रमबद्ध नहीं है\n",
        "        क्रमबद्धता = १;                   // हम मानते हैं कि यह क्रमबद्ध है\n",
        "        क्रम (पद = ०; पद < सरणी_लंबाई - १; पद++)\n",
        "        अणु  // फिर सरणी के प्रत्येक तत्व के लिए\n",
        "            अगर (सरणी[पद] > सरणी[पद + १])\n",
        "            अणु                                   // अगर दो तत्व क्रमबद्ध नहीं हैं\n",
        "                क्रमबद्धता = ०;                 // इसका मतलब है कि सरणी क्रमबद्ध नहीं है\n",
        "                अस्थायी_चर = सरणी[पद];  // और हम इन तत्वों का चयन करते हैं\n",
        "                                                  // अस्थाई_चर का उपयोग करके\n",
        "                सरणी[पद] = सरणी[पद + १];\n",
        "                सरणी[पद + १] = अस्थायी_चर;\n",
        "            पूर्ण\n",
        "        पूर्ण\n",
        "    पूर्ण\n",
        "    क्रम (पद = ०; पद < सरणी_लंबाई; पद++)\n",
        "    अणु\n",
        "        म_लिखो(\"%प \", सरणी[पद]);\n",
        "        माध्य = माध्य + सरणी[पद];\n",
        "    पूर्ण\n",
        "    माध्य = माध्य / (भग्न)सरणी_लंबाई;\n",
        "\n",
        "    क्रम (पद = ०; पद < सरणी_लंबाई; पद++)\n",
        "        प्रसरण = प्रसरण + (घात((सरणी[पद] - माध्य), २));\n",
        "\n",
        "    प्रसरण = प्रसरण / (भग्न)सरणी_लंबाई;\n",
        "    विचलन = वर्ग_मूल(प्रसरण);\n",
        "\n",
        "    म_लिखो(\"\\न\\न- माध्य है: %भ\\न\", माध्य);\n",
        "    म_लिखो(\"- प्रसरण है: %भ\\न\", प्रसरण);\n",
        "    म_लिखो(\"- मानक विचलन है: %भ\\न\", विचलन);\n",
        "पूर्ण\n",
        "\n"
      ],
      "execution_count": null,
      "outputs": []
    },
    {
      "cell_type": "code",
      "metadata": {
        "id": "Q9PNg5aXMKdY"
      },
      "source": [
        "%%writefile inpC.txt\n",
        "100\n"
      ],
      "execution_count": null,
      "outputs": []
    },
    {
      "cell_type": "code",
      "metadata": {
        "id": "CSSL6mk2MKdd"
      },
      "source": [
        "%%bash\n",
        "\n",
        "hincc myC.uhin\n",
        "cat inpC.txt | awk '{print}' | ./hin.exe\n"
      ],
      "execution_count": null,
      "outputs": []
    },
    {
      "cell_type": "code",
      "metadata": {
        "id": "Zxv-it2WMKdh"
      },
      "source": [
        "%%writefile myC++.uhin\n",
        "<शैली श्रेणी>\n",
        "#समावेश <मानकपन.स>\n",
        "\n",
        "श्रेणी जानवर\n",
        "{\n",
        "खुला:\n",
        "    भव व्योम लिखो()\n",
        "    {\n",
        "        म_लिखो(\"यह एक जानवर है।\\n\");\n",
        "    }\n",
        "};\n",
        "\n",
        "श्रेणी शेर : खुला जानवर\n",
        "{\n",
        "खुला:\n",
        "    व्योम लिखो()\n",
        "    {\n",
        "        म_लिखो(\"शेर एक जानवर है।\\n\");\n",
        "    }\n",
        "};\n",
        "\n",
        "श्रेणी चीता : खुला जानवर\n",
        "{\n",
        "खुला:\n",
        "    व्योम लिखो()\n",
        "    {\n",
        "        म_लिखो(\"चीता एक जानवर है।\\n\");\n",
        "    }\n",
        "};\n",
        "\n",
        "पूर्णांक मुख्य()\n",
        "{\n",
        "    जानवर ज, *ज१;\n",
        "    शेर श;\n",
        "    चीता च;\n",
        "\n",
        "    ज.लिखो();\n",
        "    श.लिखो();\n",
        "    च.लिखो();\n",
        "\n",
        "    ज१=&ज;\n",
        "    ज१->लिखो();\n",
        "    ज१=&श;\n",
        "    ज१->लिखो();\n",
        "    ज१=&च;\n",
        "    ज१->लिखो();\n",
        "\n",
        "    वापस 0;\n",
        "}\n"
      ],
      "execution_count": null,
      "outputs": []
    },
    {
      "cell_type": "code",
      "metadata": {
        "id": "AeJ35IabMKdm"
      },
      "source": [
        "%%writefile inpC++.txt\n",
        "Enter inputs here, if any"
      ],
      "execution_count": null,
      "outputs": []
    },
    {
      "cell_type": "code",
      "metadata": {
        "id": "ZWImtDUOMKdw"
      },
      "source": [
        "%%bash\n",
        "#Do not edit below this line\n",
        "hincc myC++.uhin\n",
        "cat inpC++.txt | awk '{print}' | ./hin.exe\n"
      ],
      "execution_count": null,
      "outputs": []
    },
    {
      "cell_type": "code",
      "metadata": {
        "id": "8nrLKZj7MKd0"
      },
      "source": [
        "%%writefile myASM.uhin\n",
        "<शैली यांत्रिक>\n",
        "विधि ELF प्रयोग\n",
        "प्रथम मुख्य\n",
        "अखंड पाठक प्रयोग\n",
        "मुख्य:\n",
        "    डालो    बकक्ष,४\n",
        "    डालो    बखक्ष,१\n",
        "    डालो    बगक्ष,संदेश\n",
        "    डालो    बघक्ष,संदेश_माप\n",
        "    विघ्न    ०x८०\n",
        "    डालो    बकक्ष,1\n",
        "    अथवा    बखक्ष,बखक्ष\n",
        "    विघ्न  ०x८०\n",
        "अखंड पाठक लेखक\n",
        "संदेश तब \"सारे जहां से अच्छा हिंदोस्तां हमारा!\",०xA\n",
        "संदेश_माप = $-संदेश\n"
      ],
      "execution_count": null,
      "outputs": []
    },
    {
      "cell_type": "code",
      "metadata": {
        "id": "I2JA1fxVMKd8"
      },
      "source": [
        "%%writefile inpASM.txt\n",
        "Replace this with inputs\n"
      ],
      "execution_count": null,
      "outputs": []
    },
    {
      "cell_type": "code",
      "metadata": {
        "id": "_am_tIbmMKeA"
      },
      "source": [
        "%%bash\n",
        "\n",
        "#Do not edit below this line\n",
        "hincc myASM.uhin\n",
        "cat inpASM.txt | awk '{print}' | ./hin.exe\n"
      ],
      "execution_count": null,
      "outputs": []
    },
    {
      "cell_type": "code",
      "metadata": {
        "id": "hde8EEeyMKeF"
      },
      "source": [
        "%%writefile myLEX.uhin\n",
        "<शैली शब्द>\n",
        "%{\n",
        "%}\n",
        "%%\n",
        "\"अ\"a+\"अ\"    {म_लिखो(\"ओ\");}\n",
        "ab+a        {म_लिखो(\"ab*a\");}\n",
        "%%\n"
      ],
      "execution_count": null,
      "outputs": []
    },
    {
      "cell_type": "code",
      "metadata": {
        "id": "FN1iOTbAMKeI"
      },
      "source": [
        "%%writefile inpLEX.txt\n",
        "अ\n",
        "aअ\n",
        "अaअ"
      ],
      "execution_count": null,
      "outputs": []
    },
    {
      "cell_type": "code",
      "metadata": {
        "id": "I1T4IHbuMKeM"
      },
      "source": [
        "%%bash\n",
        "\n",
        "#Do not edit below this line\n",
        "hincc myLEX.uhin\n",
        "cat inpLEX.txt | awk '{print}' | ./hin.exe\n"
      ],
      "execution_count": null,
      "outputs": []
    },
    {
      "cell_type": "code",
      "metadata": {
        "id": "VVorthCyMKeQ"
      },
      "source": [
        "%%writefile myYACC.uhin\n",
        "<शैली व्याक>\n",
        "%अणु\n",
        "#समावेश <प्रकार.स>\n",
        "#समावेश <मानकपन.स>\n",
        "#घोषणा व्याक_ढेर_प्रकार द्विगुन\n",
        "\n",
        "पूर्णांक व्याक_त्रुटि();\n",
        "पूर्णांक श_शब्द();\n",
        "\n",
        "%पूर्ण\n",
        "\n",
        "%मोहर अंक\n",
        "%बाँए '+' '-'\n",
        "%बाँए '*' '/'\n",
        "%बाँए '%'\n",
        "%दाँए घटा\n",
        "\n",
        "%%\n",
        "पंक्ति   : पंक्ति उक्ति '\\n'   { म_लिखो(\"%g \\n\", $2); }\n",
        "       | पंक्ति '\\n'\n",
        "       | /* ऐपसिलन */\n",
        "       ;\n",
        "उक्ति   : उक्ति '+' उक्ति    { $$ = $1 + $3; }\n",
        "       | उक्ति '-' उक्ति    { $$ = $1 - $3; }\n",
        "       | उक्ति '*' उक्ति    { $$ = $1 * $3; }\n",
        "       | उक्ति '/' उक्ति    { $$ = $1 / $3; }\n",
        "       | उक्ति '%' उक्ति    { $$ = (int)$1 % (int)$3; }\n",
        "       | '(' उक्ति ')'     { $$ = $2; }\n",
        "       | '-' उक्ति %प्राथमिकता घटा  { $$ = - $2; }\n",
        "       | '+' उक्ति %प्राथमिकता घटा  { $$ = $2; }\n",
        "       | अंक\n",
        "       ;\n",
        "%%\n",
        " \n",
        "पूर्णांक श_शब्द()\n",
        "अणु\n",
        "   पूर्णांक च;\n",
        "   जबतक ( ( च=अक्षर_लो() ) == ' ' );\n",
        "   अगर ( (च == '.') || (है_अंक(च)) )\n",
        "   अणु\n",
        "      अक्षर_वापस(च, मानक_निवेश);\n",
        "      म_पूछो(\"%lf\", &श_ब_मान);\n",
        "      वापस अंक;\n",
        "   पूर्ण\n",
        "   वापस च;\n",
        "पूर्ण\n",
        " \n",
        "पूर्णांक व्याक_त्रुटि()\n",
        "अणु\n",
        "   वापस 0;\n",
        "पूर्ण\n",
        " \n",
        "पूर्णांक मुख्य(पूर्णांक तस, अक्षर *तव[] )\n",
        "अणु\n",
        "   म_लिखो(\"हिंदवी कैल्क्यूलेटर\\n\");\n",
        "   म_लिखो(\"Copyright (C) 2005 Abhishek Choudhary\\n\");\n",
        "   म_लिखो(\"GNU GPL V2 license. NO WARRANTY.\\n\");\n",
        "   म_लिखो(\"आप 0 से 9, +, -, *, / और () का प्रयोग कर सकते हैं।\\n\");\n",
        "   व्याक();\n",
        "   वापस 0;\n",
        "पूर्ण\n"
      ],
      "execution_count": null,
      "outputs": []
    },
    {
      "cell_type": "code",
      "metadata": {
        "id": "qylP2vrpMKeU"
      },
      "source": [
        "%%writefile inpYACC.txt\n",
        "(2+3)/4-1\n",
        "3/7\n"
      ],
      "execution_count": null,
      "outputs": []
    },
    {
      "cell_type": "code",
      "metadata": {
        "id": "UcR1fokqMKeX"
      },
      "source": [
        "%%shell\n",
        "#Do not edit below this line\n",
        "hincc myYACC.uhin\n",
        "cat inpYACC.txt | awk '{print}' | ./hin.exe"
      ],
      "execution_count": null,
      "outputs": []
    },
    {
      "cell_type": "markdown",
      "metadata": {
        "id": "rgm32XQ-MKcw"
      },
      "source": [
        "Hindawi 2021.6 is the second update to Hindawi Programming System based on IPython (Jupyter) Notebooks\n",
        "(C) Copyright 2004-2021 Abhishek Choudhary\n",
        "Released on GNU GPL v2 license\n",
        "\n",
        "केवल आपका अनुदान ही प्रोजेक्ट हिंदवी को सक्रिय और कार्यात्मक रख सकता है।\n",
        "\n",
        "Your support can keep Project Hindawi active and alive.\n",
        "\n",
        "\n",
        "Try it for yourself live online\n",
        "इसे ऑनलाइन चलाएं\n",
        "\n",
        "https://colab.research.google.com/github/hindawiai/hindawi2020/blob/master/Notebooks/Hindawi2021.6.ipynb\n",
        "\n",
        "\n",
        "Source code is available at https://github.com/hindawiai/hindawi2020\n",
        "\n",
        "\n",
        "We need to offer better interfaces. Lectures and courses need to be developed - and a lot of other development work that will make it more usable. Every rupee you contribute will help take the project to its logical destination.\n",
        "\n",
        "\n",
        "हमें बेहतर इंटरफेस पेश करने की जरूरत है। व्याख्यान और पाठ्यक्रम विकसित करने की आवश्यकता है - और कई अन्य विकास कार्य जो इसे और अधिक उपयोगी बना देंगे। आपके द्वारा योगदान किया गया प्रत्येक रुपया परियोजना को उसके तार्किक गंतव्य तक ले जाने में मदद करेगा।\n",
        "\n",
        "\n",
        "हिंदवी एक खुला स्रोत, पूर्ण गैर-अंग्रेज़ी आधारित सिस्टम प्रोग्रामिंग प्लेटफ़ॉर्म है जो असेंबली भाषा से लेकर तर्क और कार्यात्मक प्रोग्रामिंग तक प्रोग्रामिंग भाषाओं के सभी प्रतिमान प्रदान करता है\n",
        "\n",
        "\n",
        "Hindawi is an open-source, complete non-English based systems programming platform supporting all paradigms of programming languages from assembly language to logic and functional programming, which effectively shatters the language barrier allowing non English literates\n",
        "\n",
        " to take up computer sciences and revolution at all levels of \n",
        "\n",
        "technology, from primary school education to robotics and \n",
        "\n",
        "super-computing in their mother tongue, without the need to master English.\n",
        "\n",
        "\n",
        "It is a suite of open-source Indic programming languages. It includes compilers for the equivalents of C, C++, lex, yacc, assembly, BASIC, etc. in Hindi, Bangla, Gujrati, Assomiya, Nepali and other Indian languages. These localized programming languages are known as Shaili, \n",
        "\n",
        "e.g. Indic C is Shaili Guru, Indic C++ is Shaili Shraenibadha, Indic Assembly is Shaili Yantrik and so on.\n",
        "\n",
        "The term Hindawi is often used to denote Hindawi \n",
        "\n",
        "\n",
        "यह ओपन-सोर्स इंडिक प्रोग्रामिंग भाषाओं का संग्रह है। इसमें हिंदी, बांग्ला, गुजराती, असमिया, नेपाली और अन्य भारतीय भाषाओं में सी, सी ++, लेक्स, वाईएसीसी, असेंबली, बेसिक, आदि के समकक्षों के लिए कंपाइलर शामिल हैं। इन स्थानीय प्रोग्रामिंग भाषाओं को शैली के रूप में जाना जाता है\n",
        "\n",
        "\n",
        "Programming System or HPS along with its related projects –\n",
        "\n",
        "          Romenagri (a case and diacritic independent \n",
        "\n",
        "compiler-acceptable transliteration system),\n",
        "\n",
        "          APCISR (a system for displaying Indic scripts in “true” \n",
        "\n",
        "text-mode),\n",
        "\n",
        "          Swaadheen OS (OS in Indian languages), and\n",
        "\n",
        "          FreeBot Angel (a Indian language understanding autonomous robot).\n",
        "\n",
        "\n",
        "Hindawi is also used as a generic term for other Indian language compiler systems derived from it such as BangaBhasha (compiler system for Bangla programming languages), also developed by our project.\n",
        "\n",
        "## Environment details\n",
        "### On a Ubuntu 18.04 LTS or later host\n",
        "Note: You can use the \"free\" ubuntu VMs available on Google Cloud, Azure Cloud, AWS etc.\n",
        "```bash\n",
        "mkdir ~/hinwork\n",
        "cd ~/hinwork\n",
        "sudo apt update && sudo apt install docker.io\n",
        "sudo groupadd docker && sudo usermod -aG docker ${USER}\n",
        "docker pull ayeai/hindawi\n",
        "killall screen\n",
        "docker stop hindawi\n",
        "docker rm hindawi\n",
        "screen -dmS hindawi docker run -v $(pwd):/home/hindawi/work -p 80:80 -p 8888:8888 --name hindawi -u hindawi -w /home/hindawi -it ayeai/hindawi bash\n",
        "printf \"Waiting for container \\\"hindawi\\\"... \"; while [ $(docker ps | grep hindawi | wc -l) -lt 1 ]; do printf .; sleep 1; done; echo Container \"hindawi\" started\n",
        "docker exec -w /home/hindawi/work hindawi cp -r ~/hindawi2020/Hindawi/samples/ ./\n",
        "# Hindi BASIC\n",
        "docker exec -w /home/hindawi/work hindawi hincc samples/HindiBASIC.uhin\n",
        "docker exec -w /home/hindawi/work -it hindawi bash -c 'echo 5 | ./hin.exe'\n",
        "# Hindi C\n",
        "docker exec -w /home/hindawi/work hindawi hincc samples/HindiC.uhin\n",
        "docker exec -w /home/hindawi/work -it hindawi bash -c 'printf \"hindawi\\n5\\n\" | ./hin.exe'\n",
        "# Hindi C++\n",
        "docker exec -w /home/hindawi/work hindawi hincc samples/HindiC++.uhin\n",
        "docker exec -w /home/hindawi/work -it hindawi ./hin.exe\n",
        "# Hindi Assembly (x86)\n",
        "docker exec -w /home/hindawi/work hindawi hincc samples/HindiASM.uhin\n",
        "docker exec -w /home/hindawi/work -it hindawi ./hin.exe\n",
        "# Hindi LEX\n",
        "docker exec -w /home/hindawi/work hindawi hincc samples/HindiLEX.uhin\n",
        "docker exec -w /home/hindawi/work -it hindawi bash -c 'printf \"abbbba\\n\" | ./hin.exe'\n",
        "# Hindi YACC\n",
        "docker exec -w /home/hindawi/work hindawi hincc samples/HindiYACC.uhin\n",
        "docker exec -w /home/hindawi/work -it hindawi bash -c 'printf \"(2+3)/4-1\\n\" | ./hin.exe'\n",
        "```\n",
        "TBD: Need to add jupyter-notebook into the hindawi image\n",
        "Start jupyter server as\n",
        "jupyter-notebook --no-browser --ip=0.0.0.0 --port=8888\n",
        "Add this notebook to github\n",
        "\n",
        "### On [play with docker](https://labs.play-with-docker.com/)\n",
        "```bash\n",
        "docker pull ayeai/hindawi\n",
        "docker run -v $(pwd):/home/hindawi/work -p 80:80 -p 8888:8888 --name hindawi -u hindawi -w /home/hindawi -it ayeai/hindawi bash\n",
        "```\n",
        "\n",
        "### On [Google Colab](https://colab.research.google.com/)\n",
        "Use the open in Google Colab button in the repository\n",
        "\n",
        "Notice: Hindawi and Hindawi logo are trademarks of Abhishek Choudhary used since 2004. All trademarks mentioned are acknowledged as belonging to their respective owners. Reference in academic context does not imply any affiliation with or endorsement by them.\n",
        "\n"
      ]
    }
  ]
}