{
  "nbformat": 4,
  "nbformat_minor": 0,
  "metadata": {
    "kernelspec": {
      "display_name": "Python 3",
      "language": "python",
      "name": "python3"
    },
    "language_info": {
      "codemirror_mode": {
        "name": "ipython",
        "version": 3
      },
      "file_extension": ".py",
      "mimetype": "text/x-python",
      "name": "python",
      "nbconvert_exporter": "python",
      "pygments_lexer": "ipython3",
      "version": "3.8.2"
    },
    "colab": {
      "name": "Hindawi2021.6.ipynb",
      "provenance": [],
      "collapsed_sections": [],
      "toc_visible": true
    }
  },
  "cells": [
    {
      "cell_type": "markdown",
      "metadata": {
        "id": "yYc5p2xhYS7i"
      },
      "source": [
        "# हिंदवी 2021.6 \n",
        "\n",
        "Hindawi Programming System 2021.6<br>\n",
        "Copyright (C) 2004-2021 Abhishek Choudhary<br>\n",
        "GNU GPL V2 license. NO WARRANTY.\n",
        "\n",
        "### **हिंदवी प्रोग्रामिंग सिस्टम प्राथमिक स्तर से गेट कंप्यूटर इंजीनियरिंग ([GATE CSE](https://gate.iitb.ac.in/syllabi.php)) स्तर तक मातृभाषा में प्रोग्रामिंग को संभव बनाता है। [सुपरकंप्यूटिंग](https://hi.wikipedia.org/wiki/%E0%A4%AE%E0%A4%B9%E0%A4%BE%E0%A4%B8%E0%A4%82%E0%A4%97%E0%A4%A3%E0%A4%95) ([HPC](https://hi.wikipedia.org/wiki/%E0%A4%AE%E0%A4%B9%E0%A4%BE%E0%A4%B8%E0%A4%82%E0%A4%97%E0%A4%A3%E0%A4%95)), आई.ओ.टी (IoT), क्वांटम कंप्यूटिंग और डी.एन.ए कंप्यूटिंग ([DNA computing](https://en.wikipedia.org/wiki/DNA_computing)) अनुसंधान और प्रोग्रामिंग भी हिंदवी का उपयोग करके मातृभाषा में संभव है। यह एक सपना नहीं है - यह एक वास्तविकता है! इसे अभी ऑनलाइन सत्यापित करें। आइए किसी भी डिजिटल विभाजन (digital divide), संज्ञानात्मक विभाजन (cognitive divide - मातृभाषा का उपयोग करके एआई को विकसित करने में असमर्थता), या भाषाई विभाजन (linguistic divide) के बिना तकनीकी विलक्षणता (technical singularity) की यात्रा पूरी करें।**\n",
        "\n",
        "##### **रनटाइम मेनू (Runtime menu) से रन ऑल (Run all) चुनें या Ctrl-F9 दबाएं**\n",
        "##### Select **Run all** from **Runtime** menu or press Ctrl-F9\n",
        "\n",
        "##### Disclaimer: GATE is only mentioned with reference to the completeness of Hindawi Programming System. We are not associated with conduct of the GATE examinations. As of 2021 GATE CSE only uses the standard forms of the programming languages and not the Hindi version.\n"
      ]
    },
    {
      "cell_type": "markdown",
      "metadata": {
        "id": "gOM1X9hJUWrt"
      },
      "source": [
        "Hindawi Programming System makes programming feasible in mother tongue from primary levels to GATE Computer Engineering level. Research and programming is feasible using Hindawi in supercomputing, IoT, robotics, artificial intelligence, quantum computing and also DNA computing is possible in mother tongue. This is not a dream - its a reality! Verify it online right now. Lets approach the technological singularity without any digital divide, cognitive divide (inability of developing AI using mother tongue), or linguistic divide."
      ]
    },
    {
      "cell_type": "markdown",
      "metadata": {
        "id": "T-Qua1WBEtvM"
      },
      "source": [
        "# प्रारंभ (Initialize)\n",
        "\n",
        "यह जुपिटर नोटबुक वातावरण को हिंदवी चलाने में सक्षम बनाता है। धीमे सिस्टम पर इसमें कुछ मिनट लग सकते हैं। अधिकांश क्लाउड वातावरण में यह कुछ सेकंड में पूरा हो जाता है।\n",
        "\n",
        "This enables Hindawi in the Jupyter notebook environment. It may take a few minutes on slower systems. On most cloud environments this completes in few seconds."
      ]
    },
    {
      "cell_type": "code",
      "metadata": {
        "id": "fEf5G-CzMb3M",
        "colab": {
          "base_uri": "https://localhost:8080/"
        },
        "cellView": "form",
        "outputId": "7f06f7f2-20ac-4ba5-d3e3-03932ad73a60"
      },
      "source": [
        "#@title स्थापना (Installation)\n",
        "#@markdown अन्य कक्षों का उपयोग करने से पहले इसे कम से कम एक बार चलाया जाना चाहिए\n",
        "#@markdown <br>\n",
        "#@markdown This must be run at least once before the other cells can be used\n",
        "%%shell\n",
        "\n",
        "#Installing prerequisites...\n",
        "printf \"पूर्वापेक्षा की स्थापना... \"\n",
        "sudo apt install gawk flex bison php-iconv &>/dev/null\n",
        "#Done\n",
        "echo \"पूरित\"\n",
        "\n",
        "printf \"Hindawi2020 रिपॉजिटरी का क्लोन बनाया जा रहा है... \"\n",
        "git clone https://github.com/hindawiai/hindawi2020 &>/dev/null\n",
        "#Done\n",
        "echo \"पूरित\"\n",
        "\n",
        "if [ 0 -lt $(pip3 freeze | grep google.colab | wc -l) ]\n",
        "then\n",
        "  #Executing preamble for non-docker platforms...\n",
        "  echo \"गैर-डॉकर प्लेटफार्मों के लिए प्रस्तावना का निष्पादन...\"\n",
        "  cd hindawi2020\n",
        "\n",
        "  for n in HindawiUI HindawiLauncher Romenagri RomenagriUI RomenagriMail\\\n",
        "          Hindawi/guru Hindawi/hindrv Hindawi/kritrima Hindawi/praatha\\\n",
        "          Hindawi/shabda Hindawi/shraeni Hindawi/wyaaka Hindawi/yantra\\\n",
        "          Hindawi/others/fasm Hindawi/others/qb2c;\n",
        "  do\n",
        "    pushd $n &>/dev/null\n",
        "    #Building in $n...\n",
        "    printf \"$n में निर्माण चल रहा है ... \"\n",
        "    make all &>/dev/null\n",
        "    make install &>/dev/null\n",
        "    make clean_all &>/dev/null\n",
        "    #Done\n",
        "    echo \"पूरित\"\n",
        "    popd &>/dev/null\n",
        "  done\n",
        "  #Completed preamble for non-docker platforms.\n",
        "  echo \"गैर-डॉकर प्लेटफॉर्म के लिए प्रस्तावना पूर्ण।\"\n",
        "fi\n",
        "#TBD: APCISR not built\n"
      ],
      "execution_count": 40,
      "outputs": [
        {
          "output_type": "stream",
          "text": [
            "पूर्वापेक्षा की स्थापना... पूरित\n",
            "Hindawi2020 रिपॉजिटरी का क्लोन बनाया जा रहा है... पूरित\n",
            "गैर-डॉकर प्लेटफार्मों के लिए प्रस्तावना का निष्पादन...\n",
            "HindawiUI में निर्माण चल रहा है ... पूरित\n",
            "HindawiLauncher में निर्माण चल रहा है ... पूरित\n",
            "Romenagri में निर्माण चल रहा है ... पूरित\n",
            "RomenagriUI में निर्माण चल रहा है ... पूरित\n",
            "RomenagriMail में निर्माण चल रहा है ... पूरित\n",
            "Hindawi/guru में निर्माण चल रहा है ... पूरित\n",
            "Hindawi/hindrv में निर्माण चल रहा है ... पूरित\n",
            "Hindawi/kritrima में निर्माण चल रहा है ... पूरित\n",
            "Hindawi/praatha में निर्माण चल रहा है ... पूरित\n",
            "Hindawi/shabda में निर्माण चल रहा है ... पूरित\n",
            "Hindawi/shraeni में निर्माण चल रहा है ... पूरित\n",
            "Hindawi/wyaaka में निर्माण चल रहा है ... पूरित\n",
            "Hindawi/yantra में निर्माण चल रहा है ... पूरित\n",
            "Hindawi/others/fasm में निर्माण चल रहा है ... पूरित\n",
            "Hindawi/others/qb2c में निर्माण चल रहा है ... पूरित\n",
            "गैर-डॉकर प्लेटफॉर्म के लिए प्रस्तावना पूर्ण।\n"
          ],
          "name": "stdout"
        },
        {
          "output_type": "execute_result",
          "data": {
            "text/plain": [
              ""
            ]
          },
          "metadata": {
            "tags": []
          },
          "execution_count": 40
        }
      ]
    },
    {
      "cell_type": "markdown",
      "metadata": {
        "id": "et2pXY0XGLqY"
      },
      "source": [
        "# **शैली प्राथ्मिक**\n",
        "**शैली प्राथमिक** या **हिंदी बेसिक** शिक्षार्थियों की चरण 3 प्रोग्रामिंग भाषा है।\n",
        "<br>यह मध्य विद्यालय के बच्चों को संरचित प्रोग्रामिंग की अवधारणाएं सिखाता है।\n",
        "<br>**Shaili Prathmik** or **Hindi BASIC** is the learners' stage 3 programming language.\n",
        "<br>It teaches children in middle school the concepts of structured programming.\n"
      ]
    },
    {
      "cell_type": "code",
      "metadata": {
        "scrolled": false,
        "id": "8Dr6rgxZMKcy",
        "colab": {
          "base_uri": "https://localhost:8080/"
        },
        "cellView": "form",
        "outputId": "07f203de-7628-4c9b-ba66-c55377a4ae97"
      },
      "source": [
        "#@title **शैली प्राथ्मिक का कार्यक्रम संपादन**\n",
        "%%writefile myBASIC.uhin\n",
        "पूछो \"ऊँचाई: \", न\n",
        "लिखो न\n",
        "क्रम क = १ से न\n",
        "    क्रम ख = १ से (न - क)\n",
        "        लिखो \"   \";\n",
        "    क्रमांत ख\n",
        "    क्रम ग = १ से क\n",
        "        लिखो \"हिन्दवी  \";\n",
        "    क्रमांत ग\n",
        "    लिखो \"\"\n",
        "क्रमांत क\n",
        "क्रम क = (न - १) से १ गति -१\n",
        "    क्रम ख = १ से (न - क)\n",
        "        लिखो \"   \";\n",
        "    क्रमांत ख\n",
        "    क्रम ग = १ से क\n",
        "        लिखो \"हिन्दवी  \";\n",
        "    क्रमांत ग\n",
        "    लिखो \"\"\n",
        "क्रमांत क\n",
        "इति\n"
      ],
      "execution_count": 1,
      "outputs": [
        {
          "output_type": "stream",
          "text": [
            "Writing myBASIC.uhin\n"
          ],
          "name": "stdout"
        }
      ]
    },
    {
      "cell_type": "code",
      "metadata": {
        "id": "oZLGaXPsMKdI",
        "colab": {
          "base_uri": "https://localhost:8080/"
        },
        "outputId": "7587d28a-db95-4839-b494-90d7cf9240ab"
      },
      "source": [
        "%%writefile inpBASIC.txt\n",
        "5\n"
      ],
      "execution_count": 2,
      "outputs": [
        {
          "output_type": "stream",
          "text": [
            "Writing inpBASIC.txt\n"
          ],
          "name": "stdout"
        }
      ]
    },
    {
      "cell_type": "code",
      "metadata": {
        "id": "r0-TRzr3MKdQ",
        "colab": {
          "base_uri": "https://localhost:8080/"
        },
        "outputId": "7c91ebba-af91-494b-c3f8-70f25735a48d"
      },
      "source": [
        "%%shell\n",
        "#@title ### **शैली प्राथ्मिक का निष्पादन (execution)**\n",
        "#@markdown ### इस नोटबुक के फ़ाइल ब्राउज़र का उपयोग करके संकलित प्रोग्राम को डाउनलोड किया जा सकता है। फ़ाइल hin.exe\n",
        "#@markdown Execute Shaili Prathmik (Hindi BASIC) program\n",
        "#@markdown <br>\n",
        "#@markdown Compiled program can be downloaded using this notebook's file browser.\n",
        "#@markdown <br>\n",
        "#@markdown Look for the file hin.exe\n",
        "#इस लाइन के नीचे संपादित न करें\n",
        "#Do not edit below this line\n",
        "if [ $(which hincc | wc -l) -lt 1 ]\n",
        "then\n",
        "  echo अन्य कक्षों का उपयोग करने से पहले स्थापना कम से कम एक बार चलाया जाना चाहिए\n",
        "  echo Installation must be run at least once before the other cells can be used\n",
        "  echo 'https://colab.research.google.com/github/hindawiai/hindawi2020/blob/master/Notebooks/Hindawi2021.6.ipynb#scrollTo=fEf5G-CzMb3M&line=1&uniqifier=1'\n",
        "else\n",
        "  hincc myBASIC.uhin\n",
        "  cat inpBASIC.txt | awk '{print}' | ./hin.exe\n",
        "fi\n"
      ],
      "execution_count": 5,
      "outputs": [
        {
          "output_type": "stream",
          "text": [
            "अन्य कक्षों का उपयोग करने से पहले स्थापना कम से कम एक बार चलाया जाना चाहिए\n",
            "Installation must be run at least once before the other cells can be used\n",
            "https://colab.research.google.com/github/hindawiai/hindawi2020/blob/master/Notebooks/Hindawi2021.6.ipynb#scrollTo=fEf5G-CzMb3M&line=1&uniqifier=1\n"
          ],
          "name": "stdout"
        },
        {
          "output_type": "execute_result",
          "data": {
            "text/plain": [
              ""
            ]
          },
          "metadata": {
            "tags": []
          },
          "execution_count": 5
        }
      ]
    },
    {
      "cell_type": "markdown",
      "metadata": {
        "id": "sPSM2FMjODJl"
      },
      "source": [
        "# **शैली गुरु**\n",
        "**शैली गुरु** या **हिंदी सी** शिक्षार्थियों की चरण 4 प्रोग्रामिंग भाषा है।\n",
        "<br>यह हाई स्कूल और स्नातक छात्रों को मेमोरी पॉइंटर्स जैसी अवधारणाओं का उपयोग करके प्रोग्रामिंग सिखाता है। यह GATE CSE के डेटा संरचनाओं और एल्गोरिदम से संबंधित प्रश्नों के लिए उपयोग की जाने वाली भाषा है। इसका उपयोग ऑपरेटिंग सिस्टम, IoT (एम्बेडेड सिस्टम), और विभिन्न महत्वपूर्ण संग्रह जैसे BLAS (वैज्ञानिक कंप्यूटिंग और AI की आधार परत), कार्य विन्यास (रनटाइम - अधिकांश एप्लिकेशन सॉफ़्टवेयर की मुख्य परत), और अधिकांश सिस्टम कमांड के विकास के लिए भी किया जाता है।\n",
        "<br>\n",
        "<br>**Shaili Guru** or **Hindi C** is the learners' stage 4 programming language.\n",
        "<br>It teaches high school and undergraduate students programming using concepts like memory pointers. This is the language used for GATE CSE for questions around data structures and algorithms. It is also used for developing operating systems, IoT (embedded systems), and various low level libraries like BLAS (the core layer of scientific computing and AI), runtime (core layer of most application software), and most of the system commands.\n"
      ]
    },
    {
      "cell_type": "code",
      "metadata": {
        "id": "RKwBJc0cMKdU",
        "colab": {
          "base_uri": "https://localhost:8080/"
        },
        "outputId": "c88a88a8-a98b-4f41-a42f-a52c41232ff8"
      },
      "source": [
        "%%writefile myC.uhin\n",
        "<शैली गुरु>\n",
        "#समावेश <गणित.स>\n",
        "#समावेश <मानकपन.स>\n",
        "#समावेश <मानककोष.स>\n",
        "\n",
        "पूर्णांक मुख्य()\n",
        "अणु\n",
        "    पूर्णांक *सरणी = शून्य, सरणी_लंबाई, पद, अस्थायी_चर, क्रमबद्धता = ०;\n",
        "    भग्न माध्य = ०, प्रसरण = ०, विचलन;\n",
        "\n",
        "    म_लिखो(\"यादृच्छिक (random) संख्याओं की संख्या दर्ज करें:\");\n",
        "    म_पूछो(\"%प\", &सरणी_लंबाई);\n",
        "    सरणी = (पूर्णांक *)पुनः_स्मृति(\n",
        "        सरणी,\n",
        "        सरणी_लंबाई * (माप(पूर्णांक)));  // हम समर्पित स्मृति आवंटित करते हैं\n",
        "    क्रम (पद = ०; पद < सरणी_लंबाई; पद++)  // हम अक्रम संख्याएँ उत्पन्न करते हैं\n",
        "        सरणी[पद] = अक्रम() % १००;\n",
        "\n",
        "    म_लिखो(\"उत्पन्न यादृच्छिक (random) संख्याएँ हैं:\\न\");  // हम उन्हें प्रदर्शित करते हैं\n",
        "    क्रम (पद = ०; पद < सरणी_लंबाई; पद++) म_लिखो(\"%प \", सरणी[पद]);\n",
        "\n",
        "    म_लिखो(\"\\नक्रमबद्ध डेटा: \");  // फिर हम इसे बबल सॉर्ट का उपयोग करके सॉर्ट करते हैं\n",
        "\n",
        "    जबतक (!क्रमबद्धता)\n",
        "    अणु                                     // जबकि हमारी सरणी क्रमबद्ध नहीं है\n",
        "        क्रमबद्धता = १;                   // हम मानते हैं कि यह क्रमबद्ध है\n",
        "        क्रम (पद = ०; पद < सरणी_लंबाई - १; पद++)\n",
        "        अणु  // फिर सरणी के प्रत्येक तत्व के लिए\n",
        "            अगर (सरणी[पद] > सरणी[पद + १])\n",
        "            अणु                                   // अगर दो तत्व क्रमबद्ध नहीं हैं\n",
        "                क्रमबद्धता = ०;                 // इसका मतलब है कि सरणी क्रमबद्ध नहीं है\n",
        "                अस्थायी_चर = सरणी[पद];  // और हम इन तत्वों का चयन करते हैं\n",
        "                                                  // अस्थाई_चर का उपयोग करके\n",
        "                सरणी[पद] = सरणी[पद + १];\n",
        "                सरणी[पद + १] = अस्थायी_चर;\n",
        "            पूर्ण\n",
        "        पूर्ण\n",
        "    पूर्ण\n",
        "    क्रम (पद = ०; पद < सरणी_लंबाई; पद++)\n",
        "    अणु\n",
        "        म_लिखो(\"%प \", सरणी[पद]);\n",
        "        माध्य = माध्य + सरणी[पद];\n",
        "    पूर्ण\n",
        "    माध्य = माध्य / (भग्न)सरणी_लंबाई;\n",
        "\n",
        "    क्रम (पद = ०; पद < सरणी_लंबाई; पद++)\n",
        "        प्रसरण = प्रसरण + (घात((सरणी[पद] - माध्य), २));\n",
        "\n",
        "    प्रसरण = प्रसरण / (भग्न)सरणी_लंबाई;\n",
        "    विचलन = वर्ग_मूल(प्रसरण);\n",
        "\n",
        "    म_लिखो(\"\\न\\न- माध्य है: %भ\\न\", माध्य);\n",
        "    म_लिखो(\"- प्रसरण है: %भ\\न\", प्रसरण);\n",
        "    म_लिखो(\"- मानक विचलन है: %भ\\न\", विचलन);\n",
        "पूर्ण\n",
        "\n"
      ],
      "execution_count": 44,
      "outputs": [
        {
          "output_type": "stream",
          "text": [
            "Overwriting myC.uhin\n"
          ],
          "name": "stdout"
        }
      ]
    },
    {
      "cell_type": "code",
      "metadata": {
        "id": "Q9PNg5aXMKdY",
        "colab": {
          "base_uri": "https://localhost:8080/"
        },
        "outputId": "92becadd-5f5d-4748-8664-6556f43cec45"
      },
      "source": [
        "%%writefile inpC.txt\n",
        "100\n"
      ],
      "execution_count": 45,
      "outputs": [
        {
          "output_type": "stream",
          "text": [
            "Overwriting inpC.txt\n"
          ],
          "name": "stdout"
        }
      ]
    },
    {
      "cell_type": "code",
      "metadata": {
        "id": "CSSL6mk2MKdd",
        "colab": {
          "base_uri": "https://localhost:8080/"
        },
        "outputId": "03805823-5f43-4671-d92e-9865622ed901"
      },
      "source": [
        "%%bash\n",
        "\n",
        "hincc myC.uhin\n",
        "cat inpC.txt | awk '{print}' | ./hin.exe\n"
      ],
      "execution_count": 46,
      "outputs": [
        {
          "output_type": "stream",
          "text": [
            "संकलन के परिणाम\n",
            "============\n",
            "यादृच्छिक संख्याओं की संख्या दर्ज करें:उत्पन्न यादृच्छिक संख्याएँ हैं:\n",
            "83 86 77 15 93 35 86 92 49 21 62 27 90 59 63 26 40 26 72 36 11 68 67 29 82 30 62 23 67 35 29 2 22 58 69 67 93 56 11 42 29 73 21 19 84 37 98 24 15 70 13 26 91 80 56 73 62 70 96 81 5 25 84 27 36 5 46 29 13 57 24 95 82 45 14 67 34 64 43 50 87 8 76 78 88 84 3 51 54 99 32 60 76 68 39 12 26 86 94 39 \n",
            "क्रमबद्ध डेटा: 2 3 5 5 8 11 11 12 13 13 14 15 15 19 21 21 22 23 24 24 25 26 26 26 26 27 27 29 29 29 29 30 32 34 35 35 36 36 37 39 39 40 42 43 45 46 49 50 51 54 56 56 57 58 59 60 62 62 62 63 64 67 67 67 67 68 68 69 70 70 72 73 73 76 76 77 78 80 81 82 82 83 84 84 84 86 86 86 87 88 90 91 92 93 93 94 95 96 98 99 \n",
            "\n",
            "- माध्य है: 51.840000\n",
            "- प्रसरण है: 779.494446\n",
            "- मानक विचलन है: 27.919428\n"
          ],
          "name": "stdout"
        }
      ]
    },
    {
      "cell_type": "markdown",
      "metadata": {
        "id": "IU2YJyWEOHap"
      },
      "source": [
        "# शैली प्राथ्मिक\n",
        "**शैली प्राथमिक** या हिंदी बेसिक शिक्षार्थियों की चरण 3 प्रोग्रामिंग भाषा है। यह मध्य विद्यालय के बच्चों को संरचित प्रोग्रामिंग की अवधारणाएं सिखाता है।\n",
        "<br>\n",
        "Shaili Prathmik or **Hindi BASIC** is the learners' stage 3 programming language. It teaches children in middle school the concepts of structured programming.\n"
      ]
    },
    {
      "cell_type": "code",
      "metadata": {
        "id": "Zxv-it2WMKdh",
        "colab": {
          "base_uri": "https://localhost:8080/"
        },
        "outputId": "73788afb-c7e8-4777-8a57-d3f9d776ff5f"
      },
      "source": [
        "%%writefile myC++.uhin\n",
        "<शैली श्रेणी>\n",
        "#समावेश <मानकपन.स>\n",
        "\n",
        "श्रेणी जानवर\n",
        "{\n",
        "खुला:\n",
        "    भव व्योम लिखो()\n",
        "    {\n",
        "        म_लिखो(\"यह एक जानवर है।\\n\");\n",
        "    }\n",
        "};\n",
        "\n",
        "श्रेणी शेर : खुला जानवर\n",
        "{\n",
        "खुला:\n",
        "    व्योम लिखो()\n",
        "    {\n",
        "        म_लिखो(\"शेर एक जानवर है।\\n\");\n",
        "    }\n",
        "};\n",
        "\n",
        "श्रेणी चीता : खुला जानवर\n",
        "{\n",
        "खुला:\n",
        "    व्योम लिखो()\n",
        "    {\n",
        "        म_लिखो(\"चीता एक जानवर है।\\n\");\n",
        "    }\n",
        "};\n",
        "\n",
        "पूर्णांक मुख्य()\n",
        "{\n",
        "    जानवर ज, *ज१;\n",
        "    शेर श;\n",
        "    चीता च;\n",
        "\n",
        "    ज.लिखो();\n",
        "    श.लिखो();\n",
        "    च.लिखो();\n",
        "\n",
        "    ज१=&ज;\n",
        "    ज१->लिखो();\n",
        "    ज१=&श;\n",
        "    ज१->लिखो();\n",
        "    ज१=&च;\n",
        "    ज१->लिखो();\n",
        "\n",
        "    वापस 0;\n",
        "}\n"
      ],
      "execution_count": 47,
      "outputs": [
        {
          "output_type": "stream",
          "text": [
            "Overwriting myC++.uhin\n"
          ],
          "name": "stdout"
        }
      ]
    },
    {
      "cell_type": "code",
      "metadata": {
        "id": "AeJ35IabMKdm",
        "colab": {
          "base_uri": "https://localhost:8080/"
        },
        "outputId": "849eb370-55d9-4e69-c5c1-2b530c476370"
      },
      "source": [
        "%%writefile inpC++.txt\n",
        "Enter inputs here, if any"
      ],
      "execution_count": 48,
      "outputs": [
        {
          "output_type": "stream",
          "text": [
            "Overwriting inpC++.txt\n"
          ],
          "name": "stdout"
        }
      ]
    },
    {
      "cell_type": "code",
      "metadata": {
        "id": "ZWImtDUOMKdw",
        "colab": {
          "base_uri": "https://localhost:8080/"
        },
        "outputId": "f4fa4d0a-59d3-4547-ff98-acdcb878dc1f"
      },
      "source": [
        "%%bash\n",
        "#Do not edit below this line\n",
        "hincc myC++.uhin\n",
        "cat inpC++.txt | awk '{print}' | ./hin.exe\n"
      ],
      "execution_count": 49,
      "outputs": [
        {
          "output_type": "stream",
          "text": [
            "संकलन के परिणाम\n",
            "============\n",
            "यह एक जानवर है।\n",
            "शेर एक जानवर है।\n",
            "चीता एक जानवर है।\n",
            "यह एक जानवर है।\n",
            "शेर एक जानवर है।\n",
            "चीता एक जानवर है।\n"
          ],
          "name": "stdout"
        }
      ]
    },
    {
      "cell_type": "markdown",
      "metadata": {
        "id": "TOL_r6uuOmeG"
      },
      "source": [
        "# शैली प्राथ्मिक\n",
        "**शैली प्राथमिक** या हिंदी बेसिक शिक्षार्थियों की चरण 3 प्रोग्रामिंग भाषा है। यह मध्य विद्यालय के बच्चों को संरचित प्रोग्रामिंग की अवधारणाएं सिखाता है।\n",
        "<br>\n",
        "Shaili Prathmik or **Hindi BASIC** is the learners' stage 3 programming language. It teaches children in middle school the concepts of structured programming.\n"
      ]
    },
    {
      "cell_type": "code",
      "metadata": {
        "id": "8nrLKZj7MKd0",
        "colab": {
          "base_uri": "https://localhost:8080/"
        },
        "outputId": "203fbcea-2982-4f5b-dc16-20fb1a64762b"
      },
      "source": [
        "%%writefile myASM.uhin\n",
        "<शैली यांत्रिक>\n",
        "विधि ELF प्रयोग\n",
        "प्रथम मुख्य\n",
        "अखंड पाठक प्रयोग\n",
        "मुख्य:\n",
        "    डालो    बकक्ष,४\n",
        "    डालो    बखक्ष,१\n",
        "    डालो    बगक्ष,संदेश\n",
        "    डालो    बघक्ष,संदेश_माप\n",
        "    विघ्न    ०x८०\n",
        "    डालो    बकक्ष,1\n",
        "    अथवा    बखक्ष,बखक्ष\n",
        "    विघ्न  ०x८०\n",
        "अखंड पाठक लेखक\n",
        "संदेश तब \"सारे जहां से अच्छा हिंदोस्तां हमारा!\",०xA\n",
        "संदेश_माप = $-संदेश\n"
      ],
      "execution_count": 50,
      "outputs": [
        {
          "output_type": "stream",
          "text": [
            "Overwriting myASM.uhin\n"
          ],
          "name": "stdout"
        }
      ]
    },
    {
      "cell_type": "code",
      "metadata": {
        "id": "I2JA1fxVMKd8",
        "colab": {
          "base_uri": "https://localhost:8080/"
        },
        "outputId": "cb0cfe97-fa35-483b-a561-d5477e70840f"
      },
      "source": [
        "%%writefile inpASM.txt\n",
        "Replace this with inputs\n"
      ],
      "execution_count": 51,
      "outputs": [
        {
          "output_type": "stream",
          "text": [
            "Overwriting inpASM.txt\n"
          ],
          "name": "stdout"
        }
      ]
    },
    {
      "cell_type": "code",
      "metadata": {
        "id": "_am_tIbmMKeA",
        "colab": {
          "base_uri": "https://localhost:8080/"
        },
        "outputId": "092432d5-4ed1-464b-c84a-dfd2e5825033"
      },
      "source": [
        "%%bash\n",
        "\n",
        "#Do not edit below this line\n",
        "hincc myASM.uhin\n",
        "cat inpASM.txt | awk '{print}' | ./hin.exe\n"
      ],
      "execution_count": 52,
      "outputs": [
        {
          "output_type": "stream",
          "text": [
            "संकलन के परिणाम\n",
            "============\n",
            "flat assembler  version 1.67.7  (16384 kilobytes memory)\n",
            "3 passes, 244 bytes.\n",
            "सारे जहां से अच्छा हिंदोस्तां हमारा!\n"
          ],
          "name": "stdout"
        }
      ]
    },
    {
      "cell_type": "markdown",
      "metadata": {
        "id": "matR-E1YOqfZ"
      },
      "source": [
        "# शैली प्राथ्मिक\n",
        "**शैली प्राथमिक** या हिंदी बेसिक शिक्षार्थियों की चरण 3 प्रोग्रामिंग भाषा है। यह मध्य विद्यालय के बच्चों को संरचित प्रोग्रामिंग की अवधारणाएं सिखाता है।\n",
        "<br>\n",
        "Shaili Prathmik or **Hindi BASIC** is the learners' stage 3 programming language. It teaches children in middle school the concepts of structured programming.\n"
      ]
    },
    {
      "cell_type": "code",
      "metadata": {
        "id": "hde8EEeyMKeF",
        "colab": {
          "base_uri": "https://localhost:8080/"
        },
        "outputId": "0c288e8c-f562-42d2-d315-c6060b4d0485"
      },
      "source": [
        "%%writefile myLEX.uhin\n",
        "<शैली शब्द>\n",
        "%{\n",
        "%}\n",
        "%%\n",
        "\"अ\"a+\"अ\"    {म_लिखो(\"ओ\");}\n",
        "ab+a        {म_लिखो(\"ab*a\");}\n",
        "%%\n"
      ],
      "execution_count": 53,
      "outputs": [
        {
          "output_type": "stream",
          "text": [
            "Overwriting myLEX.uhin\n"
          ],
          "name": "stdout"
        }
      ]
    },
    {
      "cell_type": "code",
      "metadata": {
        "id": "FN1iOTbAMKeI",
        "colab": {
          "base_uri": "https://localhost:8080/"
        },
        "outputId": "361b2543-f2b1-4d3b-ff44-774dab1f5e4a"
      },
      "source": [
        "%%writefile inpLEX.txt\n",
        "अ\n",
        "aअ\n",
        "अaअ"
      ],
      "execution_count": 54,
      "outputs": [
        {
          "output_type": "stream",
          "text": [
            "Overwriting inpLEX.txt\n"
          ],
          "name": "stdout"
        }
      ]
    },
    {
      "cell_type": "code",
      "metadata": {
        "id": "I1T4IHbuMKeM",
        "colab": {
          "base_uri": "https://localhost:8080/"
        },
        "outputId": "38b78779-0df7-47e6-faef-b6432fa93286"
      },
      "source": [
        "%%bash\n",
        "\n",
        "#Do not edit below this line\n",
        "hincc myLEX.uhin\n",
        "cat inpLEX.txt | awk '{print}' | ./hin.exe\n"
      ],
      "execution_count": 55,
      "outputs": [
        {
          "output_type": "stream",
          "text": [
            "संकलन के परिणाम\n",
            "============\n",
            "अ\n",
            "aअ\n",
            "ओ\n"
          ],
          "name": "stdout"
        }
      ]
    },
    {
      "cell_type": "markdown",
      "metadata": {
        "id": "yvs4Gal9Ot1X"
      },
      "source": [
        "# शैली प्राथ्मिक\n",
        "**शैली प्राथमिक** या हिंदी बेसिक शिक्षार्थियों की चरण 3 प्रोग्रामिंग भाषा है। यह मध्य विद्यालय के बच्चों को संरचित प्रोग्रामिंग की अवधारणाएं सिखाता है।\n",
        "<br>\n",
        "Shaili Prathmik or **Hindi BASIC** is the learners' stage 3 programming language. It teaches children in middle school the concepts of structured programming.\n"
      ]
    },
    {
      "cell_type": "code",
      "metadata": {
        "id": "VVorthCyMKeQ",
        "colab": {
          "base_uri": "https://localhost:8080/"
        },
        "outputId": "bea2e9d2-49ac-40bb-a1dc-0188a4f6f63e"
      },
      "source": [
        "%%writefile myYACC.uhin\n",
        "<शैली व्याक>\n",
        "%अणु\n",
        "#समावेश <प्रकार.स>\n",
        "#समावेश <मानकपन.स>\n",
        "#घोषणा व्याक_ढेर_प्रकार द्विगुन\n",
        "\n",
        "पूर्णांक व्याक_त्रुटि();\n",
        "पूर्णांक श_शब्द();\n",
        "\n",
        "%पूर्ण\n",
        "\n",
        "%मोहर अंक\n",
        "%बाँए '+' '-'\n",
        "%बाँए '*' '/'\n",
        "%बाँए '%'\n",
        "%दाँए घटा\n",
        "\n",
        "%%\n",
        "पंक्ति   : पंक्ति उक्ति '\\n'   { म_लिखो(\"%g \\n\", $2); }\n",
        "       | पंक्ति '\\n'\n",
        "       | /* ऐपसिलन */\n",
        "       ;\n",
        "उक्ति   : उक्ति '+' उक्ति    { $$ = $1 + $3; }\n",
        "       | उक्ति '-' उक्ति    { $$ = $1 - $3; }\n",
        "       | उक्ति '*' उक्ति    { $$ = $1 * $3; }\n",
        "       | उक्ति '/' उक्ति    { $$ = $1 / $3; }\n",
        "       | उक्ति '%' उक्ति    { $$ = (int)$1 % (int)$3; }\n",
        "       | '(' उक्ति ')'     { $$ = $2; }\n",
        "       | '-' उक्ति %प्राथमिकता घटा  { $$ = - $2; }\n",
        "       | '+' उक्ति %प्राथमिकता घटा  { $$ = $2; }\n",
        "       | अंक\n",
        "       ;\n",
        "%%\n",
        " \n",
        "पूर्णांक श_शब्द()\n",
        "अणु\n",
        "   पूर्णांक च;\n",
        "   जबतक ( ( च=अक्षर_लो() ) == ' ' );\n",
        "   अगर ( (च == '.') || (है_अंक(च)) )\n",
        "   अणु\n",
        "      अक्षर_वापस(च, मानक_निवेश);\n",
        "      म_पूछो(\"%lf\", &श_ब_मान);\n",
        "      वापस अंक;\n",
        "   पूर्ण\n",
        "   वापस च;\n",
        "पूर्ण\n",
        " \n",
        "पूर्णांक व्याक_त्रुटि()\n",
        "अणु\n",
        "   वापस 0;\n",
        "पूर्ण\n",
        " \n",
        "पूर्णांक मुख्य(पूर्णांक तस, अक्षर *तव[] )\n",
        "अणु\n",
        "   म_लिखो(\"हिंदवी कैल्क्यूलेटर\\n\");\n",
        "   म_लिखो(\"Copyright (C) 2005-2021 Abhishek Choudhary\\n\");\n",
        "   म_लिखो(\"GNU GPL V2 license. NO WARRANTY.\\n\");\n",
        "   म_लिखो(\"आप 0 से 9, +, -, *, / और () का प्रयोग कर सकते हैं।\\n\");\n",
        "   व्याक();\n",
        "   वापस 0;\n",
        "पूर्ण\n"
      ],
      "execution_count": 56,
      "outputs": [
        {
          "output_type": "stream",
          "text": [
            "Overwriting myYACC.uhin\n"
          ],
          "name": "stdout"
        }
      ]
    },
    {
      "cell_type": "code",
      "metadata": {
        "id": "qylP2vrpMKeU",
        "colab": {
          "base_uri": "https://localhost:8080/"
        },
        "outputId": "b42179b7-b0dc-44c1-a1f3-a2ac3d75a7fb"
      },
      "source": [
        "%%writefile inpYACC.txt\n",
        "(2+3)/4-1\n",
        "3/7\n"
      ],
      "execution_count": 57,
      "outputs": [
        {
          "output_type": "stream",
          "text": [
            "Overwriting inpYACC.txt\n"
          ],
          "name": "stdout"
        }
      ]
    },
    {
      "cell_type": "code",
      "metadata": {
        "id": "UcR1fokqMKeX",
        "colab": {
          "base_uri": "https://localhost:8080/"
        },
        "outputId": "e4f385e4-88c7-43d1-e7ac-4e3e3908b3c7"
      },
      "source": [
        "%%shell\n",
        "#Do not edit below this line\n",
        "hincc myYACC.uhin\n",
        "cat inpYACC.txt | awk '{print}' | ./hin.exe"
      ],
      "execution_count": 58,
      "outputs": [
        {
          "output_type": "stream",
          "text": [
            "संकलन के परिणाम\n",
            "============\n",
            "हिंदवी कैल्क्यूलेटर\n",
            "Copyright (C) 2005-2021 Abhishek Choudhary\n",
            "GNU GPL V2 license. NO WARRANTY.\n",
            "आप 0 से 9, +, -, *, / और () का प्रयोग कर सकते हैं।\n",
            "0.25 \n",
            "0.428571 \n"
          ],
          "name": "stdout"
        },
        {
          "output_type": "execute_result",
          "data": {
            "text/plain": [
              ""
            ]
          },
          "metadata": {
            "tags": []
          },
          "execution_count": 58
        }
      ]
    },
    {
      "cell_type": "markdown",
      "metadata": {
        "id": "rgm32XQ-MKcw"
      },
      "source": [
        "# Technical details\n",
        "Hindawi 2021.6 is the second update to Hindawi Programming System based on IPython (Jupyter) Notebooks<br>\n",
        "(C) Copyright 2004-2021 Abhishek Choudhary<br>\n",
        "All media rights reserved, including cinematographic reproduction<br>\n",
        "\n",
        "Released on GNU GPL v2 license. No warranty.\n",
        "\n",
        "केवल आपका अनुदान ही प्रोजेक्ट हिंदवी को सक्रिय और कार्यात्मक रख सकता है।\n",
        "\n",
        "Your support can keep Project Hindawi active and alive.\n",
        "\n",
        "\n",
        "Try it for yourself live online\n",
        "इसे ऑनलाइन चलाएं\n",
        "\n",
        "https://colab.research.google.com/github/hindawiai/hindawi2020/blob/master/Notebooks/Hindawi2021.6.ipynb\n",
        "\n",
        "\n",
        "Source code is available at https://github.com/hindawiai/hindawi2020\n",
        "\n",
        "\n",
        "We need to offer better interfaces. Lectures and courses need to be developed - and a lot of other development work that will make it more usable. Every rupee you contribute will help take the project to its logical destination.\n",
        "\n",
        "\n",
        "हमें बेहतर इंटरफेस पेश करने की जरूरत है। व्याख्यान और पाठ्यक्रम विकसित करने की आवश्यकता है - और कई अन्य विकास कार्य जो इसे और अधिक उपयोगी बना देंगे। आपके द्वारा योगदान किया गया प्रत्येक रुपया परियोजना को उसके तार्किक गंतव्य तक ले जाने में मदद करेगा।\n",
        "\n",
        "\n",
        "हिंदवी एक खुला स्रोत, पूर्ण गैर-अंग्रेज़ी आधारित सिस्टम प्रोग्रामिंग प्लेटफ़ॉर्म है जो असेंबली भाषा से लेकर तर्क और कार्यात्मक प्रोग्रामिंग तक प्रोग्रामिंग भाषाओं के सभी प्रतिमान प्रदान करता है\n",
        "\n",
        "\n",
        "Hindawi is an open-source, complete non-English based systems programming platform supporting all paradigms of programming languages from assembly language to logic and functional programming, which effectively shatters the language barrier allowing non English literates\n",
        "\n",
        " to take up computer sciences and revolution at all levels of \n",
        "\n",
        "technology, from primary school education to robotics and \n",
        "\n",
        "super-computing in their mother tongue, without the need to master English.\n",
        "\n",
        "\n",
        "It is a suite of open-source Indic programming languages. It includes compilers for the equivalents of C, C++, lex, yacc, assembly, BASIC, etc. in Hindi, Bangla, Gujrati, Assomiya, Nepali and other Indian languages. These localized programming languages are known as Shaili, \n",
        "\n",
        "e.g. Indic C is Shaili Guru, Indic C++ is Shaili Shraenibadha, Indic Assembly is Shaili Yantrik and so on.\n",
        "\n",
        "The term Hindawi is often used to denote Hindawi \n",
        "\n",
        "\n",
        "यह ओपन-सोर्स इंडिक प्रोग्रामिंग भाषाओं का संग्रह है। इसमें हिंदी, बांग्ला, गुजराती, असमिया, नेपाली और अन्य भारतीय भाषाओं में सी, सी ++, लेक्स, वाईएसीसी, असेंबली, बेसिक, आदि के समकक्षों के लिए कंपाइलर शामिल हैं। इन स्थानीय प्रोग्रामिंग भाषाओं को शैली के रूप में जाना जाता है\n",
        "\n",
        "\n",
        "Programming System or HPS along with its related projects –\n",
        "\n",
        "          Romenagri (a case and diacritic independent \n",
        "\n",
        "compiler-acceptable transliteration system),\n",
        "\n",
        "          APCISR (a system for displaying Indic scripts in “true” \n",
        "\n",
        "text-mode),\n",
        "\n",
        "          Swaadheen OS (OS in Indian languages), and\n",
        "\n",
        "          FreeBot Angel (a Indian language understanding autonomous robot).\n",
        "\n",
        "\n",
        "Hindawi is also used as a generic term for other Indian language compiler systems derived from it such as BangaBhasha (compiler system for Bangla programming languages), also developed by our project.\n",
        "\n",
        "## Environment details\n",
        "### On a Ubuntu 18.04 LTS or later host\n",
        "Note: You can use the \"free\" ubuntu VMs available on Google Cloud, Azure Cloud, AWS etc.\n",
        "```bash\n",
        "mkdir ~/hinwork\n",
        "cd ~/hinwork\n",
        "sudo apt update && sudo apt install docker.io\n",
        "sudo groupadd docker && sudo usermod -aG docker ${USER}\n",
        "docker pull ayeai/hindawi\n",
        "killall screen\n",
        "docker stop hindawi\n",
        "docker rm hindawi\n",
        "screen -dmS hindawi docker run -v $(pwd):/home/hindawi/work -p 80:80 -p 8888:8888 --name hindawi -u hindawi -w /home/hindawi -it ayeai/hindawi bash\n",
        "printf \"Waiting for container \\\"hindawi\\\"... \"; while [ $(docker ps | grep hindawi | wc -l) -lt 1 ]; do printf .; sleep 1; done; echo Container \"hindawi\" started\n",
        "docker exec -w /home/hindawi/work hindawi cp -r ~/hindawi2020/Hindawi/samples/ ./\n",
        "# Hindi BASIC\n",
        "docker exec -w /home/hindawi/work hindawi hincc samples/HindiBASIC.uhin\n",
        "docker exec -w /home/hindawi/work -it hindawi bash -c 'echo 5 | ./hin.exe'\n",
        "# Hindi C\n",
        "docker exec -w /home/hindawi/work hindawi hincc samples/HindiC.uhin\n",
        "docker exec -w /home/hindawi/work -it hindawi bash -c 'printf \"hindawi\\n5\\n\" | ./hin.exe'\n",
        "# Hindi C++\n",
        "docker exec -w /home/hindawi/work hindawi hincc samples/HindiC++.uhin\n",
        "docker exec -w /home/hindawi/work -it hindawi ./hin.exe\n",
        "# Hindi Assembly (x86)\n",
        "docker exec -w /home/hindawi/work hindawi hincc samples/HindiASM.uhin\n",
        "docker exec -w /home/hindawi/work -it hindawi ./hin.exe\n",
        "# Hindi LEX\n",
        "docker exec -w /home/hindawi/work hindawi hincc samples/HindiLEX.uhin\n",
        "docker exec -w /home/hindawi/work -it hindawi bash -c 'printf \"abbbba\\n\" | ./hin.exe'\n",
        "# Hindi YACC\n",
        "docker exec -w /home/hindawi/work hindawi hincc samples/HindiYACC.uhin\n",
        "docker exec -w /home/hindawi/work -it hindawi bash -c 'printf \"(2+3)/4-1\\n\" | ./hin.exe'\n",
        "```\n",
        "TBD: Need to add jupyter-notebook into the hindawi image\n",
        "Start jupyter server as\n",
        "jupyter-notebook --no-browser --ip=0.0.0.0 --port=8888\n",
        "Add this notebook to github\n",
        "\n",
        "### On [play with docker](https://labs.play-with-docker.com/)\n",
        "```bash\n",
        "docker pull ayeai/hindawi\n",
        "docker run -v $(pwd):/home/hindawi/work -p 80:80 -p 8888:8888 --name hindawi -u hindawi -w /home/hindawi -it ayeai/hindawi bash\n",
        "```\n",
        "\n",
        "### On [Google Colab](https://colab.research.google.com/)\n",
        "Use the open in Google Colab button in the repository\n",
        "\n",
        "Notice: Hindawi and Hindawi logo are trademarks of Abhishek Choudhary used since 2004. All trademarks mentioned are acknowledged as belonging to their respective owners. Reference in academic context does not imply any affiliation with or endorsement by them.\n",
        "\n"
      ]
    }
  ]
}